{
 "cells": [
  {
   "attachments": {},
   "cell_type": "markdown",
   "metadata": {
    "slideshow": {
     "slide_type": "slide"
    }
   },
   "source": [
    "# El Modelo de Ramsey Estocástico con Programación Dinámica Estocástica y shock a la MIT\n",
    "Profesor: PhD Carlos J. García \n",
    "\n",
    "Estudiante: David Limpe Cruz\n",
    "\n",
    "MAE  - Universidad Alberto Hurtado - 2023"
   ]
  },
  {
   "attachments": {},
   "cell_type": "markdown",
   "metadata": {
    "slideshow": {
     "slide_type": "slide"
    }
   },
   "source": [
    "### El Problema de Opmización \n",
    "\n",
    "El problema de optimización del planificador central es el siguiente:\n",
    "\n",
    "\\begin{array}{rcl}\n",
    "\n",
    "\\max_{C_t, K_{t+1}} & = & E_t \\sum_{t=0}^{\\infty}\\beta^{t}\\ln C_{t} \\\\\n",
    "s.a &  & C_{t}+I_{t}=S_t K_{t}^{\\alpha}\\\\\n",
    " &  & k_{t+1}=I_{t}+(1-\\delta)K_{t}\\\\\n",
    " &  & K_{0},S_0 \\ dados.\n",
    "\\end{array}\n",
    "\n",
    "\n",
    "Alternativamente:\n",
    "\n",
    "\\begin{array}{rcl}\n",
    "\\max_{C_t,K_{t+1}} & = & E_t \\sum_{t=0}^{\\infty}\\beta^{t}\\ln C_{t}\\\\\n",
    "s.a &  & C_{t}+K_{t+1}=S_t K_{t}^{\\alpha}+(1-\\delta)K_{t}\\\\\n",
    " &  & K_{0},S_0 \\ dados.\n",
    "\n",
    "\\end{array}\n",
    "\n",
    "Por las condiciones iniciales, podemos asumir solución interior."
   ]
  },
  {
   "attachments": {},
   "cell_type": "markdown",
   "metadata": {
    "slideshow": {
     "slide_type": "slide"
    }
   },
   "source": [
    "En términos de programación dinámica:\n",
    "\n",
    "La ecuación de Bellman es:\n",
    "\n",
    "$$\n",
    "V(K_{t})=\\max_{C_{t}, K_{t+1}}\\left\\{\\log(C_t)+\\beta E_tV(K_{t+1})\\right\\} \n",
    "$$\n",
    "\n",
    "La solución del problema funcional está dada por la función valor y la función de política:\n",
    "\n",
    "$$\n",
    "V(K_{t})\\,\\,y\\,\\,K_{t+1}=g(K_{t})\n",
    "$$"
   ]
  },
  {
   "attachments": {},
   "cell_type": "markdown",
   "metadata": {},
   "source": [
    "## Condiciones de Optimalidad\n",
    "\n",
    "El lagranjeano intertemporal en valor presente:\n",
    "\n",
    "$$L=\\max_{C_t,K_{t+1}} E_t\\sum_{t=0}^{\\infty}\\beta^{t}\\left[\\ln C_{t}+\\lambda_{t}\\left(S_{t}K_{t}^{\\alpha}+(1-\\delta)K_{t}-C_{t}-K_{t+1}\\right)\\right]$$\n",
    "\n",
    "Condiciones de primer orden:\n",
    "\n",
    "\\begin{array}{rcl}\n",
    "\\frac{\\partial L}{\\partial C_{t}} & : & \\beta^{t}\\left[\\frac{1}{C_{t}}-\\lambda_{t}\\right]=0\\\\\n",
    "\n",
    "\\frac{\\partial L}{\\partial K_{t+1}} & : & -\\beta^{t}\\lambda_{t}+\\beta^{t+1}E_{t}\\left[\\lambda_{t+1}\\left(\\alpha S_{t+1}K_{t+1}^{\\alpha-1}+1-\\delta\\right)\\right]\\\\\n",
    "\n",
    "\\frac{\\partial L}{\\partial\\lambda_{t}} & : & S_{t}K_{t}^{\\alpha}+(1-\\delta)K_{t}-C_{t}-K_{t+1}=0\n",
    "\\end{array}\\\\"
   ]
  },
  {
   "attachments": {},
   "cell_type": "markdown",
   "metadata": {},
   "source": [
    "Tenemos el siguiente sistema de ecuaciones en diferencias (no lineal):\n",
    "\n",
    "\\begin{array}{rcl}\n",
    "\\frac{1}{C_{t}} & = & \\beta E_{t}\\left[\\frac{1}{C_{t+1}}\\left(\\alpha S_{t+1}K_{t+1}^{\\alpha-1}+1-\\delta\\right)\\right]\\\\\n",
    "\n",
    "C_{t}+K_{t+1} & = & S_{t}K_{t}^{\\alpha}+(1-\\delta)K_{t}\\\\\n",
    "\n",
    "\\end{array}"
   ]
  },
  {
   "attachments": {},
   "cell_type": "markdown",
   "metadata": {},
   "source": [
    "## Estado Estacionario\n",
    "\n",
    "Entonces el estado estacionario resuelve, asumiendo $t= t+1$:\n",
    "\n",
    "\\begin{array}{rcl}\n",
    " \\frac{1}{\\beta} & = & \\left[\\alpha SK^{*\\alpha-1}+1-\\delta\\right]\\\\\n",
    "\n",
    " K^{*} & = & [\\frac{r+\\delta}{\\alpha}]^{\\frac{1}{\\alpha-1}} \\\\\n",
    " \n",
    "\n",
    "C^{*} & = & K^{*\\alpha}-\\delta K^{*}\n",
    "\\end{array}"
   ]
  },
  {
   "attachments": {},
   "cell_type": "markdown",
   "metadata": {
    "slideshow": {
     "slide_type": "slide"
    }
   },
   "source": [
    "### Implementación de la Solución Numérica\n",
    "\n",
    "Algoritmo:\n",
    "\n",
    "1. Definir un grid de puntos $k$ (discretización) y realizar una conjetura para $V(K)$ en cada posible punto del grid. \n",
    "2. Usando la conjetura evaluar el operador $Tv$ para cada punto en el grid (esto implica resolver el $\\max$).\n",
    "3. Evaluar si $v=Tv$ (usando el grado de tolerancia definido en parámetros), en tal caso terminar el proceso. Caso contrario volver al punto 2 usando la función valor resultante.\n",
    "\n",
    "En términos de la ecuación de Bellman, la iteración sería:\n",
    "$$\n",
    "V_{j+1}(K)=\\max_{K'}\\left\\{ \\ln\\left(SK^{\\alpha}+(1-\\delta)K-K'\\right)+\\beta E[V_{j}(K')]\\right\\} \n",
    "$$\n",
    "\n",
    "Partir con algún $V_{0}(K)$. "
   ]
  },
  {
   "attachments": {},
   "cell_type": "markdown",
   "metadata": {},
   "source": [
    "Para el cálculo del estado estacionario definimos primero los parámetros del modelo:"
   ]
  },
  {
   "cell_type": "markdown",
   "metadata": {},
   "source": [
    "Parametros del modelo:"
   ]
  },
  {
   "cell_type": "code",
   "execution_count": 1,
   "metadata": {},
   "outputs": [
    {
     "data": {
      "text/plain": [
       "0.0001"
      ]
     },
     "execution_count": 1,
     "metadata": {},
     "output_type": "execute_result"
    }
   ],
   "source": [
    "#Parámetros del modelo\n",
    "beta = 0.98 #factor de descuento intertemporal\n",
    "delta = 0.2 #depreciación del capital\n",
    "alpha = 1/3 \n",
    "r = (1/beta) - 1 #tasa de interés real\n",
    "ctiny = 6.3829e-4 \n",
    "crit = 1          # Criterio de convergencia          \n",
    "tol = 0.0001 #tolerancia para determinar la convergencia        \n"
   ]
  },
  {
   "attachments": {},
   "cell_type": "markdown",
   "metadata": {
    "slideshow": {
     "slide_type": "slide"
    }
   },
   "source": [
    "Definimos el grid de puntos de $k$ como $k_1,...,k_n \\in [k_{min},k_{max}]$ "
   ]
  },
  {
   "cell_type": "code",
   "execution_count": 2,
   "metadata": {},
   "outputs": [
    {
     "name": "stdout",
     "output_type": "stream",
     "text": [
      "k de estado estacionario: 1.8598443714639123\n"
     ]
    }
   ],
   "source": [
    "#Stock de capital estacionario y definición de la malla o krid de puntos de k\n",
    "k0 = ((1/alpha)*(r + delta))^(1/(alpha - 1))    #Es el estado estacionario del Capital\n",
    "kpoints = 1000                                  # Puntos del krid\n",
    "dev = 0.9                                       # Desviación en torno al Estado Estacionario  \n",
    "kmin = k0 * (1 - dev)                          \n",
    "kmax = k0 * (1 + dev) \n",
    "dk = (kmax - kmin) / (kpoints - 1)              # Calcula la tasa de incremento\n",
    "k = kmin:dk:kmax                                # Distintos valores para el capital  \n",
    "k = collect(k)              # vector columna de los krid de puntos de k con tasa de crecimiento positiva\n",
    "println(\"k de estado estacionario: $k0\")"
   ]
  },
  {
   "cell_type": "markdown",
   "metadata": {},
   "source": [
    "Note que mientras más puntos tengamos en el grid, más precisión tendremos."
   ]
  },
  {
   "attachments": {},
   "cell_type": "markdown",
   "metadata": {
    "slideshow": {
     "slide_type": "slide"
    }
   },
   "source": [
    "El siguiente paso es iterar la función valor partiendo de la siguiente conjetura:\n",
    "$$\n",
    "v_{0}(K)=\\left[\\begin{array}{cc}\n",
    "0 \\\\\n",
    "\\vdots \\\\\n",
    "0 \n",
    "\\end{array}\\right]\n",
    "$$"
   ]
  },
  {
   "cell_type": "code",
   "execution_count": 3,
   "metadata": {},
   "outputs": [
    {
     "name": "stdout",
     "output_type": "stream",
     "text": [
      "[0.0, 0.0, 0.0, 0.0, 0.0, 0.0, 0.0, 0.0, 0.0, 0.0, 0.0, 0.0, 0.0, 0.0, 0.0, 0.0, 0.0, 0.0, 0.0, 0.0, 0.0, 0.0, 0.0, 0.0, 0.0, 0.0, 0.0, 0.0, 0.0, 0.0, 0.0, 0.0, 0.0, 0.0, 0.0, 0.0, 0.0, 0.0, 0.0, 0.0, 0.0, 0.0, 0.0, 0.0, 0.0, 0.0, 0.0, 0.0, 0.0, 0.0, 0.0, 0.0, 0.0, 0.0, 0.0, 0.0, 0.0, 0.0, 0.0, 0.0, 0.0, 0.0, 0.0, 0.0, 0.0, 0.0, 0.0, 0.0, 0.0, 0.0, 0.0, 0.0, 0.0, 0.0, 0.0, 0.0, 0.0, 0.0, 0.0, 0.0, 0.0, 0.0, 0.0, 0.0, 0.0, 0.0, 0.0, 0.0, 0.0, 0.0, 0.0, 0.0, 0.0, 0.0, 0.0, 0.0, 0.0, 0.0, 0.0, 0.0, 0.0, 0.0, 0.0, 0.0, 0.0, 0.0, 0.0, 0.0, 0.0, 0.0, 0.0, 0.0, 0.0, 0.0, 0.0, 0.0, 0.0, 0.0, 0.0, 0.0, 0.0, 0.0, 0.0, 0.0, 0.0, 0.0, 0.0, 0.0, 0.0, 0.0, 0.0, 0.0, 0.0, 0.0, 0.0, 0.0, 0.0, 0.0, 0.0, 0.0, 0.0, 0.0, 0.0, 0.0, 0.0, 0.0, 0.0, 0.0, 0.0, 0.0, 0.0, 0.0, 0.0, 0.0, 0.0, 0.0, 0.0, 0.0, 0.0, 0.0, 0.0, 0.0, 0.0, 0.0, 0.0, 0.0, 0.0, 0.0, 0.0, 0.0, 0.0, 0.0, 0.0, 0.0, 0.0, 0.0, 0.0, 0.0, 0.0, 0.0, 0.0, 0.0, 0.0, 0.0, 0.0, 0.0, 0.0, 0.0, 0.0, 0.0, 0.0, 0.0, 0.0, 0.0, 0.0, 0.0, 0.0, 0.0, 0.0, 0.0, 0.0, 0.0, 0.0, 0.0, 0.0, 0.0, 0.0, 0.0, 0.0, 0.0, 0.0, 0.0, 0.0, 0.0, 0.0, 0.0, 0.0, 0.0, 0.0, 0.0, 0.0, 0.0, 0.0, 0.0, 0.0, 0.0, 0.0, 0.0, 0.0, 0.0, 0.0, 0.0, 0.0, 0.0, 0.0, 0.0, 0.0, 0.0, 0.0, 0.0, 0.0, 0.0, 0.0, 0.0, 0.0, 0.0, 0.0, 0.0, 0.0, 0.0, 0.0, 0.0, 0.0, 0.0, 0.0, 0.0, 0.0, 0.0, 0.0, 0.0, 0.0, 0.0, 0.0, 0.0, 0.0, 0.0, 0.0, 0.0, 0.0, 0.0, 0.0, 0.0, 0.0, 0.0, 0.0, 0.0, 0.0, 0.0, 0.0, 0.0, 0.0, 0.0, 0.0, 0.0, 0.0, 0.0, 0.0, 0.0, 0.0, 0.0, 0.0, 0.0, 0.0, 0.0, 0.0, 0.0, 0.0, 0.0, 0.0, 0.0, 0.0, 0.0, 0.0, 0.0, 0.0, 0.0, 0.0, 0.0, 0.0, 0.0, 0.0, 0.0, 0.0, 0.0, 0.0, 0.0, 0.0, 0.0, 0.0, 0.0, 0.0, 0.0, 0.0, 0.0, 0.0, 0.0, 0.0, 0.0, 0.0, 0.0, 0.0, 0.0, 0.0, 0.0, 0.0, 0.0, 0.0, 0.0, 0.0, 0.0, 0.0, 0.0, 0.0, 0.0, 0.0, 0.0, 0.0, 0.0, 0.0, 0.0, 0.0, 0.0, 0.0, 0.0, 0.0, 0.0, 0.0, 0.0, 0.0, 0.0, 0.0, 0.0, 0.0, 0.0, 0.0, 0.0, 0.0, 0.0, 0.0, 0.0, 0.0, 0.0, 0.0, 0.0, 0.0, 0.0, 0.0, 0.0, 0.0, 0.0, 0.0, 0.0, 0.0, 0.0, 0.0, 0.0, 0.0, 0.0, 0.0, 0.0, 0.0, 0.0, 0.0, 0.0, 0.0, 0.0, 0.0, 0.0, 0.0, 0.0, 0.0, 0.0, 0.0, 0.0, 0.0, 0.0, 0.0, 0.0, 0.0, 0.0, 0.0, 0.0, 0.0, 0.0, 0.0, 0.0, 0.0, 0.0, 0.0, 0.0, 0.0, 0.0, 0.0, 0.0, 0.0, 0.0, 0.0, 0.0, 0.0, 0.0, 0.0, 0.0, 0.0, 0.0, 0.0, 0.0, 0.0, 0.0, 0.0, 0.0, 0.0, 0.0, 0.0, 0.0, 0.0, 0.0, 0.0, 0.0, 0.0, 0.0, 0.0, 0.0, 0.0, 0.0, 0.0, 0.0, 0.0, 0.0, 0.0, 0.0, 0.0, 0.0, 0.0, 0.0, 0.0, 0.0, 0.0, 0.0, 0.0, 0.0, 0.0, 0.0, 0.0, 0.0, 0.0, 0.0, 0.0, 0.0, 0.0, 0.0, 0.0, 0.0, 0.0, 0.0, 0.0, 0.0, 0.0, 0.0, 0.0, 0.0, 0.0, 0.0, 0.0, 0.0, 0.0, 0.0, 0.0, 0.0, 0.0, 0.0, 0.0, 0.0, 0.0, 0.0, 0.0, 0.0, 0.0, 0.0, 0.0, 0.0, 0.0, 0.0, 0.0, 0.0, 0.0, 0.0, 0.0, 0.0, 0.0, 0.0, 0.0, 0.0, 0.0, 0.0, 0.0, 0.0, 0.0, 0.0, 0.0, 0.0, 0.0, 0.0, 0.0, 0.0, 0.0, 0.0, 0.0, 0.0, 0.0, 0.0, 0.0, 0.0, 0.0, 0.0, 0.0, 0.0, 0.0, 0.0, 0.0, 0.0, 0.0, 0.0, 0.0, 0.0, 0.0, 0.0, 0.0, 0.0, 0.0, 0.0, 0.0, 0.0, 0.0, 0.0, 0.0, 0.0, 0.0, 0.0, 0.0, 0.0, 0.0, 0.0, 0.0, 0.0, 0.0, 0.0, 0.0, 0.0, 0.0, 0.0, 0.0, 0.0, 0.0, 0.0, 0.0, 0.0, 0.0, 0.0, 0.0, 0.0, 0.0, 0.0, 0.0, 0.0, 0.0, 0.0, 0.0, 0.0, 0.0, 0.0, 0.0, 0.0, 0.0, 0.0, 0.0, 0.0, 0.0, 0.0, 0.0, 0.0, 0.0, 0.0, 0.0, 0.0, 0.0, 0.0, 0.0, 0.0, 0.0, 0.0, 0.0, 0.0, 0.0, 0.0, 0.0, 0.0, 0.0, 0.0, 0.0, 0.0, 0.0, 0.0, 0.0, 0.0, 0.0, 0.0, 0.0, 0.0, 0.0, 0.0, 0.0, 0.0, 0.0, 0.0, 0.0, 0.0, 0.0, 0.0, 0.0, 0.0, 0.0, 0.0, 0.0, 0.0, 0.0, 0.0, 0.0, 0.0, 0.0, 0.0, 0.0, 0.0, 0.0, 0.0, 0.0, 0.0, 0.0, 0.0, 0.0, 0.0, 0.0, 0.0, 0.0, 0.0, 0.0, 0.0, 0.0, 0.0, 0.0, 0.0, 0.0, 0.0, 0.0, 0.0, 0.0, 0.0, 0.0, 0.0, 0.0, 0.0, 0.0, 0.0, 0.0, 0.0, 0.0, 0.0, 0.0, 0.0, 0.0, 0.0, 0.0, 0.0, 0.0, 0.0, 0.0, 0.0, 0.0, 0.0, 0.0, 0.0, 0.0, 0.0, 0.0, 0.0, 0.0, 0.0, 0.0, 0.0, 0.0, 0.0, 0.0, 0.0, 0.0, 0.0, 0.0, 0.0, 0.0, 0.0, 0.0, 0.0, 0.0, 0.0, 0.0, 0.0, 0.0, 0.0, 0.0, 0.0, 0.0, 0.0, 0.0, 0.0, 0.0, 0.0, 0.0, 0.0, 0.0, 0.0, 0.0, 0.0, 0.0, 0.0, 0.0, 0.0, 0.0, 0.0, 0.0, 0.0, 0.0, 0.0, 0.0, 0.0, 0.0, 0.0, 0.0, 0.0, 0.0, 0.0, 0.0, 0.0, 0.0, 0.0, 0.0, 0.0, 0.0, 0.0, 0.0, 0.0, 0.0, 0.0, 0.0, 0.0, 0.0, 0.0, 0.0, 0.0, 0.0, 0.0, 0.0, 0.0, 0.0, 0.0, 0.0, 0.0, 0.0, 0.0, 0.0, 0.0, 0.0, 0.0, 0.0, 0.0, 0.0, 0.0, 0.0, 0.0, 0.0, 0.0, 0.0, 0.0, 0.0, 0.0, 0.0, 0.0, 0.0, 0.0, 0.0, 0.0, 0.0, 0.0, 0.0, 0.0, 0.0, 0.0, 0.0, 0.0, 0.0, 0.0, 0.0, 0.0, 0.0, 0.0, 0.0, 0.0, 0.0, 0.0, 0.0, 0.0, 0.0, 0.0, 0.0, 0.0, 0.0, 0.0, 0.0, 0.0, 0.0, 0.0, 0.0, 0.0, 0.0, 0.0, 0.0, 0.0, 0.0, 0.0, 0.0, 0.0, 0.0, 0.0, 0.0, 0.0, 0.0, 0.0, 0.0, 0.0, 0.0, 0.0, 0.0, 0.0, 0.0, 0.0, 0.0, 0.0, 0.0, 0.0, 0.0, 0.0, 0.0, 0.0, 0.0, 0.0, 0.0, 0.0, 0.0, 0.0, 0.0, 0.0, 0.0, 0.0, 0.0, 0.0, 0.0, 0.0, 0.0, 0.0, 0.0, 0.0, 0.0, 0.0, 0.0, 0.0, 0.0, 0.0, 0.0, 0.0, 0.0, 0.0, 0.0, 0.0, 0.0, 0.0, 0.0, 0.0, 0.0, 0.0, 0.0, 0.0, 0.0, 0.0, 0.0, 0.0, 0.0, 0.0, 0.0, 0.0, 0.0, 0.0, 0.0, 0.0, 0.0, 0.0, 0.0, 0.0, 0.0, 0.0, 0.0, 0.0, 0.0, 0.0, 0.0, 0.0, 0.0, 0.0, 0.0, 0.0, 0.0, 0.0, 0.0, 0.0, 0.0, 0.0, 0.0, 0.0, 0.0, 0.0, 0.0, 0.0, 0.0, 0.0, 0.0, 0.0, 0.0, 0.0, 0.0, 0.0, 0.0, 0.0, 0.0, 0.0, 0.0, 0.0, 0.0, 0.0, 0.0, 0.0, 0.0, 0.0, 0.0, 0.0, 0.0, 0.0, 0.0, 0.0, 0.0, 0.0, 0.0, 0.0, 0.0, 0.0, 0.0, 0.0, 0.0, 0.0, 0.0, 0.0, 0.0, 0.0, 0.0, 0.0]\n"
     ]
    }
   ],
   "source": [
    "# Definir valores iniciales\n",
    "tv=zeros(size(k))              #vector de ceros de tamaño 1000*1\n",
    "println(tv)\n",
    "indice_i = zeros(size(k));\n",
    "indice_i = floor.(Int, indice_i);"
   ]
  },
  {
   "attachments": {},
   "cell_type": "markdown",
   "metadata": {
    "slideshow": {
     "slide_type": "slide"
    }
   },
   "source": [
    "Resolvemos usando el método de iteración de la función valor (VFI):"
   ]
  },
  {
   "cell_type": "code",
   "execution_count": 4,
   "metadata": {},
   "outputs": [],
   "source": [
    "#Adivinanza funcion de valor\n",
    "v = zeros(size(k)); #es un vector {Float64} igual que tv, debe ser asi para que se puedan restar en el error_i "
   ]
  },
  {
   "attachments": {},
   "cell_type": "markdown",
   "metadata": {},
   "source": [
    "Definimos las posibilidades de consumo y la función de Utilidad"
   ]
  },
  {
   "cell_type": "code",
   "execution_count": 6,
   "metadata": {},
   "outputs": [],
   "source": [
    "#Posibilidades de consumo\n",
    "c = (((k.^alpha) + (1 - delta)*k)*ones(size(k'))) - ones(size(k))*k' # de la Restricción de recursos\n",
    "# es una matriz de 1000*1000, el cual genera todas las posibilidades de consumo.\n",
    "c[c.==0].=ctiny;                     # Saca los consumos negativos\n",
    "c[c.<=0].=ctiny/1000000000000000000000000   # Saca los consumos pequeños, por la función logaritmica\n",
    "u = log.(c[:,:]);                           \n",
    "#es una matriz que genera la Funcion de utilidad con todas las posibilidad"
   ]
  },
  {
   "attachments": {},
   "cell_type": "markdown",
   "metadata": {},
   "source": [
    "Aplicación del algoritmo del Contraction Mapping Theorem"
   ]
  },
  {
   "cell_type": "code",
   "execution_count": 7,
   "metadata": {},
   "outputs": [],
   "source": [
    "#aplicación del CMT\n",
    "j = 1 #para ver en cuantas iteraciones converge\n",
    "while crit > tol\n",
    "    for i=1:kpoints\n",
    "        tv[i],indice_i[i] = findmax(u[i,:] + beta*v) #findmax entrega el maximo valor y su indice (posición)\n",
    "        end    \n",
    "    error_i=abs.(tv - v)\n",
    "    crit = maximum(error_i)                \n",
    "    copyto!(v,tv)\n",
    "   global v \n",
    "   global crit \n",
    "   global j += 1    \n",
    "end"
   ]
  },
  {
   "attachments": {},
   "cell_type": "markdown",
   "metadata": {},
   "source": [
    "Solución numérica"
   ]
  },
  {
   "cell_type": "code",
   "execution_count": 8,
   "metadata": {},
   "outputs": [],
   "source": [
    "# Solución Final Numérica\n",
    "\n",
    "copt  = k.^alpha + (1 - delta)*k - k[indice_i]   #calculo numérico\n",
    "kk_0  = k[indice_i] \n",
    "b1    =   (log.(k[:,:]).- log(k0))\\(log.(kk_0[:,:]).- log(k0)) \n",
    "b11   =   b1[1,1] \n",
    "typeof(b11)\n",
    "\n",
    "kkk_0 = exp.(b11*(log.(k[:,:]).- log(k0)).+log(k0)) \n",
    "\n",
    "copte = k.^alpha + (1 - delta)*k - kkk_0;"
   ]
  },
  {
   "attachments": {},
   "cell_type": "markdown",
   "metadata": {
    "slideshow": {
     "slide_type": "slide"
    }
   },
   "source": [
    "### Gráficos de las funciones de política"
   ]
  },
  {
   "attachments": {},
   "cell_type": "markdown",
   "metadata": {
    "slideshow": {
     "slide_type": "slide"
    }
   },
   "source": [
    "Capital y Consumo óptimo"
   ]
  },
  {
   "cell_type": "code",
   "execution_count": 9,
   "metadata": {},
   "outputs": [
    {
     "data": {
      "text/plain": [
       "\"d:\\\\@MAE_UAH_2023_ciclo II oficial\\\\Macro Internacional\\\\códigos_Julia_FI\\\\cons_opt.png\""
      ]
     },
     "execution_count": 9,
     "metadata": {},
     "output_type": "execute_result"
    }
   ],
   "source": [
    "using Plots\n",
    "nombre_vars = [\"Linea de 45 grados\" \"Capital óptimo\" \"Consumo óptimo\"]\n",
    "plot1 = plot(k, [k kk_0 copt], xlabel=\"Capital\", ylabel=\"Consumo\", label=nombre_vars, title=\"Consumo óptimo\")\n",
    "savefig(plot1, \"cons_opt.png\") "
   ]
  },
  {
   "attachments": {},
   "cell_type": "markdown",
   "metadata": {
    "slideshow": {
     "slide_type": "slide"
    }
   },
   "source": [
    "### Shock a la MIT\n",
    "\n",
    "Realizamos un shock 1,5 veces el estado estacionario en el modelo de Ramsey"
   ]
  },
  {
   "cell_type": "code",
   "execution_count": 14,
   "metadata": {},
   "outputs": [],
   "source": [
    "## Simulación Shock MIT\n",
    "N        = 20;\n",
    "kk       = zeros(N,1)\n",
    "AA       = zeros(N,1)\n",
    "kk[1]  = 1.5*k0\n",
    "log(k0)\n",
    "kkk      = zeros(N,1)\n",
    "#kkk[1,:] .= exp(b11*(log(kk[1,;]). - log(k0)). + log(k0))\n",
    "kkk[1]   = exp.(b11*(log(kk[1]) - log(k0)) + log(k0))\n",
    "cosim    = zeros(N,1)\n",
    "#cosim(1) = (kk(1)^alpha) + (1 - delta)*kk(1) - kkk(1);\n",
    "cosim[1] = kk[1].^alpha + (1 - delta)*kk[1] - kkk[1]\n",
    "AA[1]    = (cosim[1] + kkk[1] - (1 - delta)*kk[1])/(kk[1]^alpha)\n",
    "   \n",
    "for j=2:N\n",
    "    \n",
    "        kkk[j]   = exp.(b11*(log(kkk[j-1]) - log(k0)) + log(k0));\n",
    "        cosim[j] = kkk[j-1]^alpha + (1 - delta)*kkk[j-1] - kkk[j];\n",
    "        \n",
    " end"
   ]
  },
  {
   "cell_type": "code",
   "execution_count": 15,
   "metadata": {},
   "outputs": [
    {
     "data": {
      "text/plain": [
       "\"d:\\\\@MAE_UAH_2023_ciclo II oficial\\\\Macro Internacional\\\\códigos_Julia_FI\\\\IRF_MIT.png\""
      ]
     },
     "execution_count": 15,
     "metadata": {},
     "output_type": "execute_result"
    }
   ],
   "source": [
    "#Gráfico\n",
    "t=1:1:N\n",
    "nomb_vars1 = [\"Consumo\" \"Capital\"]\n",
    "plt1= plot(t, [cosim kkk], ylabel =\"Unidades de consumo y capital\", xlabel=\"Tiempo\", label=nomb_vars1, title=\"Shock a la MIT\", linewidth = 2)\n",
    "savefig(plt1, \"IRF_MIT.png\") \n"
   ]
  }
 ],
 "metadata": {
  "kernelspec": {
   "display_name": "Julia 1.7.3",
   "language": "julia",
   "name": "julia-1.7"
  },
  "language_info": {
   "file_extension": ".jl",
   "mimetype": "application/julia",
   "name": "julia",
   "version": "1.7.3"
  }
 },
 "nbformat": 4,
 "nbformat_minor": 4
}
